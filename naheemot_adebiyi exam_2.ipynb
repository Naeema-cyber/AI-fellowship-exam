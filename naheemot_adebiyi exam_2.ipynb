{
 "cells": [
  {
   "cell_type": "code",
   "execution_count": 53,
   "id": "810704dd",
   "metadata": {},
   "outputs": [],
   "source": [
    "# import the necessary libraries\n",
    "import numpy as np\n",
    "import pandas as pd\n",
    "from scipy.stats import stats"
   ]
  },
  {
   "cell_type": "markdown",
   "id": "2498731f",
   "metadata": {},
   "source": [
    "## Question1- Pandas for Data Analysis"
   ]
  },
  {
   "cell_type": "markdown",
   "id": "ddf53d6a",
   "metadata": {},
   "source": [
    "**a. Data loading, Datetime conversion and Feature Extraction**"
   ]
  },
  {
   "cell_type": "code",
   "execution_count": 2,
   "id": "555d7789",
   "metadata": {},
   "outputs": [
    {
     "data": {
      "text/html": [
       "<div>\n",
       "<style scoped>\n",
       "    .dataframe tbody tr th:only-of-type {\n",
       "        vertical-align: middle;\n",
       "    }\n",
       "\n",
       "    .dataframe tbody tr th {\n",
       "        vertical-align: top;\n",
       "    }\n",
       "\n",
       "    .dataframe thead th {\n",
       "        text-align: right;\n",
       "    }\n",
       "</style>\n",
       "<table border=\"1\" class=\"dataframe\">\n",
       "  <thead>\n",
       "    <tr style=\"text-align: right;\">\n",
       "      <th></th>\n",
       "      <th>Date</th>\n",
       "      <th>Branch</th>\n",
       "      <th>Sales Agent</th>\n",
       "      <th>Products</th>\n",
       "      <th>Units</th>\n",
       "      <th>Price</th>\n",
       "    </tr>\n",
       "  </thead>\n",
       "  <tbody>\n",
       "    <tr>\n",
       "      <th>0</th>\n",
       "      <td>2014-09-01</td>\n",
       "      <td>Woji</td>\n",
       "      <td>Chinedu</td>\n",
       "      <td>Apple</td>\n",
       "      <td>2</td>\n",
       "      <td>125.00</td>\n",
       "    </tr>\n",
       "    <tr>\n",
       "      <th>1</th>\n",
       "      <td>2015-06-17</td>\n",
       "      <td>Woji</td>\n",
       "      <td>Emeka</td>\n",
       "      <td>Apple</td>\n",
       "      <td>5</td>\n",
       "      <td>125.00</td>\n",
       "    </tr>\n",
       "    <tr>\n",
       "      <th>2</th>\n",
       "      <td>2015-09-10</td>\n",
       "      <td>Woji</td>\n",
       "      <td>Ibrahim</td>\n",
       "      <td>Lenovo</td>\n",
       "      <td>7</td>\n",
       "      <td>1.29</td>\n",
       "    </tr>\n",
       "    <tr>\n",
       "      <th>3</th>\n",
       "      <td>2015-11-17</td>\n",
       "      <td>Woji</td>\n",
       "      <td>Tolu</td>\n",
       "      <td>HP</td>\n",
       "      <td>11</td>\n",
       "      <td>4.99</td>\n",
       "    </tr>\n",
       "    <tr>\n",
       "      <th>4</th>\n",
       "      <td>2015-10-31</td>\n",
       "      <td>Woji</td>\n",
       "      <td>Tonye</td>\n",
       "      <td>Lenovo</td>\n",
       "      <td>14</td>\n",
       "      <td>1.29</td>\n",
       "    </tr>\n",
       "  </tbody>\n",
       "</table>\n",
       "</div>"
      ],
      "text/plain": [
       "         Date Branch Sales Agent Products  Units   Price\n",
       "0  2014-09-01   Woji     Chinedu    Apple      2  125.00\n",
       "1  2015-06-17   Woji       Emeka    Apple      5  125.00\n",
       "2  2015-09-10   Woji     Ibrahim   Lenovo      7    1.29\n",
       "3  2015-11-17   Woji        Tolu       HP     11    4.99\n",
       "4  2015-10-31   Woji       Tonye   Lenovo     14    1.29"
      ]
     },
     "execution_count": 2,
     "metadata": {},
     "output_type": "execute_result"
    }
   ],
   "source": [
    "# load the dataset\n",
    "url = \"https://raw.githubusercontent.com/ek-chris/Practice_datasets/refs/heads/main/eletronic_sales.csv\"\n",
    "sales = pd.read_csv(url)\n",
    "\n",
    "\n",
    "# display the first few rows of the dataset\n",
    "sales.head()"
   ]
  },
  {
   "cell_type": "markdown",
   "id": "87b63fac",
   "metadata": {},
   "source": [
    "** Datetime conversion**"
   ]
  },
  {
   "cell_type": "code",
   "execution_count": 3,
   "id": "9a56a745",
   "metadata": {},
   "outputs": [
    {
     "data": {
      "text/html": [
       "<div>\n",
       "<style scoped>\n",
       "    .dataframe tbody tr th:only-of-type {\n",
       "        vertical-align: middle;\n",
       "    }\n",
       "\n",
       "    .dataframe tbody tr th {\n",
       "        vertical-align: top;\n",
       "    }\n",
       "\n",
       "    .dataframe thead th {\n",
       "        text-align: right;\n",
       "    }\n",
       "</style>\n",
       "<table border=\"1\" class=\"dataframe\">\n",
       "  <thead>\n",
       "    <tr style=\"text-align: right;\">\n",
       "      <th></th>\n",
       "      <th>Date</th>\n",
       "      <th>Branch</th>\n",
       "      <th>Sales Agent</th>\n",
       "      <th>Products</th>\n",
       "      <th>Units</th>\n",
       "      <th>Price</th>\n",
       "      <th>Year</th>\n",
       "      <th>Month</th>\n",
       "      <th>Day</th>\n",
       "    </tr>\n",
       "  </thead>\n",
       "  <tbody>\n",
       "    <tr>\n",
       "      <th>0</th>\n",
       "      <td>2014-09-01</td>\n",
       "      <td>Woji</td>\n",
       "      <td>Chinedu</td>\n",
       "      <td>Apple</td>\n",
       "      <td>2</td>\n",
       "      <td>125.00</td>\n",
       "      <td>2014</td>\n",
       "      <td>9</td>\n",
       "      <td>Monday</td>\n",
       "    </tr>\n",
       "    <tr>\n",
       "      <th>1</th>\n",
       "      <td>2015-06-17</td>\n",
       "      <td>Woji</td>\n",
       "      <td>Emeka</td>\n",
       "      <td>Apple</td>\n",
       "      <td>5</td>\n",
       "      <td>125.00</td>\n",
       "      <td>2015</td>\n",
       "      <td>6</td>\n",
       "      <td>Wednesday</td>\n",
       "    </tr>\n",
       "    <tr>\n",
       "      <th>2</th>\n",
       "      <td>2015-09-10</td>\n",
       "      <td>Woji</td>\n",
       "      <td>Ibrahim</td>\n",
       "      <td>Lenovo</td>\n",
       "      <td>7</td>\n",
       "      <td>1.29</td>\n",
       "      <td>2015</td>\n",
       "      <td>9</td>\n",
       "      <td>Thursday</td>\n",
       "    </tr>\n",
       "    <tr>\n",
       "      <th>3</th>\n",
       "      <td>2015-11-17</td>\n",
       "      <td>Woji</td>\n",
       "      <td>Tolu</td>\n",
       "      <td>HP</td>\n",
       "      <td>11</td>\n",
       "      <td>4.99</td>\n",
       "      <td>2015</td>\n",
       "      <td>11</td>\n",
       "      <td>Tuesday</td>\n",
       "    </tr>\n",
       "    <tr>\n",
       "      <th>4</th>\n",
       "      <td>2015-10-31</td>\n",
       "      <td>Woji</td>\n",
       "      <td>Tonye</td>\n",
       "      <td>Lenovo</td>\n",
       "      <td>14</td>\n",
       "      <td>1.29</td>\n",
       "      <td>2015</td>\n",
       "      <td>10</td>\n",
       "      <td>Saturday</td>\n",
       "    </tr>\n",
       "  </tbody>\n",
       "</table>\n",
       "</div>"
      ],
      "text/plain": [
       "         Date Branch Sales Agent Products  Units   Price  Year  Month  \\\n",
       "0  2014-09-01   Woji     Chinedu    Apple      2  125.00  2014      9   \n",
       "1  2015-06-17   Woji       Emeka    Apple      5  125.00  2015      6   \n",
       "2  2015-09-10   Woji     Ibrahim   Lenovo      7    1.29  2015      9   \n",
       "3  2015-11-17   Woji        Tolu       HP     11    4.99  2015     11   \n",
       "4  2015-10-31   Woji       Tonye   Lenovo     14    1.29  2015     10   \n",
       "\n",
       "         Day  \n",
       "0     Monday  \n",
       "1  Wednesday  \n",
       "2   Thursday  \n",
       "3    Tuesday  \n",
       "4   Saturday  "
      ]
     },
     "execution_count": 3,
     "metadata": {},
     "output_type": "execute_result"
    }
   ],
   "source": [
    "# Convert the Date  column to datetime\n",
    "date = pd.to_datetime(sales['Date'])\n",
    "\n",
    "# Extract the year, month, and day from the Date column\n",
    "sales['Year'] = date.dt.year\n",
    "sales['Month'] = date.dt.month\n",
    "sales['Day'] = date.dt.day_name()\n",
    "\n",
    "\n",
    "# display the first few rows of the updated dataset\n",
    "sales.head()"
   ]
  },
  {
   "cell_type": "code",
   "execution_count": 4,
   "id": "e8249411",
   "metadata": {},
   "outputs": [
    {
     "name": "stdout",
     "output_type": "stream",
     "text": [
      "<class 'pandas.core.frame.DataFrame'>\n",
      "RangeIndex: 43 entries, 0 to 42\n",
      "Data columns (total 9 columns):\n",
      " #   Column       Non-Null Count  Dtype  \n",
      "---  ------       --------------  -----  \n",
      " 0   Date         43 non-null     object \n",
      " 1   Branch       43 non-null     object \n",
      " 2   Sales Agent  43 non-null     object \n",
      " 3   Products     43 non-null     object \n",
      " 4   Units        43 non-null     int64  \n",
      " 5   Price        43 non-null     float64\n",
      " 6   Year         43 non-null     int32  \n",
      " 7   Month        43 non-null     int32  \n",
      " 8   Day          43 non-null     object \n",
      "dtypes: float64(1), int32(2), int64(1), object(5)\n",
      "memory usage: 2.8+ KB\n"
     ]
    }
   ],
   "source": [
    "sales.info()"
   ]
  },
  {
   "cell_type": "markdown",
   "id": "15a112e9",
   "metadata": {},
   "source": [
    "**b. Branch-Level Total Sales**"
   ]
  },
  {
   "cell_type": "code",
   "execution_count": 5,
   "id": "95ce67f1",
   "metadata": {},
   "outputs": [
    {
     "data": {
      "text/plain": [
       "Index(['Date', 'Branch', 'Sales Agent', 'Products', 'Units', 'Price', 'Year',\n",
       "       'Month', 'Day', 'Total Sales'],\n",
       "      dtype='object')"
      ]
     },
     "execution_count": 5,
     "metadata": {},
     "output_type": "execute_result"
    }
   ],
   "source": [
    "# Calculate the total sales for each branch, where total sales = units x price. Return a new Dataframe showing Branch and Total_Sales\n",
    "sales[\"Total Sales\"] = sales[\"Units\"] * sales[\"Price\"]\n",
    "\n",
    "sales.columns"
   ]
  },
  {
   "cell_type": "code",
   "execution_count": 6,
   "id": "3ff0e99d",
   "metadata": {},
   "outputs": [
    {
     "data": {
      "text/plain": [
       "Index(['Date', 'Branch', 'Sales Agent', 'Products', 'Units', 'Price', 'Year',\n",
       "       'Month', 'Day', 'Total_Sales'],\n",
       "      dtype='object')"
      ]
     },
     "execution_count": 6,
     "metadata": {},
     "output_type": "execute_result"
    }
   ],
   "source": [
    "# Renaming the Total Sales column to Total_Sales\n",
    "sales = sales.rename(columns={'Total Sales': 'Total_Sales'})\n",
    "\n",
    "sales.columns"
   ]
  },
  {
   "cell_type": "code",
   "execution_count": 7,
   "id": "1c606ed8",
   "metadata": {},
   "outputs": [
    {
     "data": {
      "text/html": [
       "<div>\n",
       "<style scoped>\n",
       "    .dataframe tbody tr th:only-of-type {\n",
       "        vertical-align: middle;\n",
       "    }\n",
       "\n",
       "    .dataframe tbody tr th {\n",
       "        vertical-align: top;\n",
       "    }\n",
       "\n",
       "    .dataframe thead th {\n",
       "        text-align: right;\n",
       "    }\n",
       "</style>\n",
       "<table border=\"1\" class=\"dataframe\">\n",
       "  <thead>\n",
       "    <tr style=\"text-align: right;\">\n",
       "      <th></th>\n",
       "      <th>Date</th>\n",
       "      <th>Branch</th>\n",
       "      <th>Sales Agent</th>\n",
       "      <th>Products</th>\n",
       "      <th>Units</th>\n",
       "      <th>Price</th>\n",
       "      <th>Year</th>\n",
       "      <th>Month</th>\n",
       "      <th>Day</th>\n",
       "      <th>Total_Sales</th>\n",
       "    </tr>\n",
       "  </thead>\n",
       "  <tbody>\n",
       "    <tr>\n",
       "      <th>0</th>\n",
       "      <td>2014-09-01</td>\n",
       "      <td>Woji</td>\n",
       "      <td>Chinedu</td>\n",
       "      <td>Apple</td>\n",
       "      <td>2</td>\n",
       "      <td>125.00</td>\n",
       "      <td>2014</td>\n",
       "      <td>9</td>\n",
       "      <td>Monday</td>\n",
       "      <td>250.00</td>\n",
       "    </tr>\n",
       "    <tr>\n",
       "      <th>1</th>\n",
       "      <td>2015-06-17</td>\n",
       "      <td>Woji</td>\n",
       "      <td>Emeka</td>\n",
       "      <td>Apple</td>\n",
       "      <td>5</td>\n",
       "      <td>125.00</td>\n",
       "      <td>2015</td>\n",
       "      <td>6</td>\n",
       "      <td>Wednesday</td>\n",
       "      <td>625.00</td>\n",
       "    </tr>\n",
       "    <tr>\n",
       "      <th>2</th>\n",
       "      <td>2015-09-10</td>\n",
       "      <td>Woji</td>\n",
       "      <td>Ibrahim</td>\n",
       "      <td>Lenovo</td>\n",
       "      <td>7</td>\n",
       "      <td>1.29</td>\n",
       "      <td>2015</td>\n",
       "      <td>9</td>\n",
       "      <td>Thursday</td>\n",
       "      <td>9.03</td>\n",
       "    </tr>\n",
       "    <tr>\n",
       "      <th>3</th>\n",
       "      <td>2015-11-17</td>\n",
       "      <td>Woji</td>\n",
       "      <td>Tolu</td>\n",
       "      <td>HP</td>\n",
       "      <td>11</td>\n",
       "      <td>4.99</td>\n",
       "      <td>2015</td>\n",
       "      <td>11</td>\n",
       "      <td>Tuesday</td>\n",
       "      <td>54.89</td>\n",
       "    </tr>\n",
       "    <tr>\n",
       "      <th>4</th>\n",
       "      <td>2015-10-31</td>\n",
       "      <td>Woji</td>\n",
       "      <td>Tonye</td>\n",
       "      <td>Lenovo</td>\n",
       "      <td>14</td>\n",
       "      <td>1.29</td>\n",
       "      <td>2015</td>\n",
       "      <td>10</td>\n",
       "      <td>Saturday</td>\n",
       "      <td>18.06</td>\n",
       "    </tr>\n",
       "  </tbody>\n",
       "</table>\n",
       "</div>"
      ],
      "text/plain": [
       "         Date Branch Sales Agent Products  Units   Price  Year  Month  \\\n",
       "0  2014-09-01   Woji     Chinedu    Apple      2  125.00  2014      9   \n",
       "1  2015-06-17   Woji       Emeka    Apple      5  125.00  2015      6   \n",
       "2  2015-09-10   Woji     Ibrahim   Lenovo      7    1.29  2015      9   \n",
       "3  2015-11-17   Woji        Tolu       HP     11    4.99  2015     11   \n",
       "4  2015-10-31   Woji       Tonye   Lenovo     14    1.29  2015     10   \n",
       "\n",
       "         Day  Total_Sales  \n",
       "0     Monday       250.00  \n",
       "1  Wednesday       625.00  \n",
       "2   Thursday         9.03  \n",
       "3    Tuesday        54.89  \n",
       "4   Saturday        18.06  "
      ]
     },
     "execution_count": 7,
     "metadata": {},
     "output_type": "execute_result"
    }
   ],
   "source": [
    "sales.head()"
   ]
  },
  {
   "cell_type": "markdown",
   "id": "3f278055",
   "metadata": {},
   "source": [
    "**c. Top performing Sales Agent**"
   ]
  },
  {
   "cell_type": "code",
   "execution_count": 8,
   "id": "80065121",
   "metadata": {},
   "outputs": [
    {
     "data": {
      "text/plain": [
       "Sales Agent\n",
       "Blessing    2363.04\n",
       "Name: Total_Sales, dtype: float64"
      ]
     },
     "execution_count": 8,
     "metadata": {},
     "output_type": "execute_result"
    }
   ],
   "source": [
    "# Determine the top-performing sales agent based on total sales across all branches. Display both the agent's name and their total sales amount.\n",
    "\n",
    "agents = sales['Sales Agent'].unique()\n",
    "sales.groupby('Sales Agent')['Total_Sales'].sum().head(1)\n",
    "\n"
   ]
  },
  {
   "cell_type": "markdown",
   "id": "86d7a928",
   "metadata": {},
   "source": [
    "**d. Introducing and Filling Missing Values**"
   ]
  },
  {
   "cell_type": "code",
   "execution_count": 9,
   "id": "0c5c977d",
   "metadata": {},
   "outputs": [],
   "source": [
    "# Using Numpy, introduce missing values in the price column for rows 5, 15, and 25.After that, fill the missing values using the median of the price column.\n",
    "sales.loc[[5, 15, 25],'Price' ] = np.nan\n"
   ]
  },
  {
   "cell_type": "code",
   "execution_count": 15,
   "id": "73587f0b",
   "metadata": {},
   "outputs": [
    {
     "data": {
      "text/plain": [
       "5    NaN\n",
       "15   NaN\n",
       "25   NaN\n",
       "Name: Price, dtype: float64"
      ]
     },
     "execution_count": 15,
     "metadata": {},
     "output_type": "execute_result"
    }
   ],
   "source": [
    "sales.loc[[5, 15, 25],'Price' ]"
   ]
  },
  {
   "cell_type": "code",
   "execution_count": 23,
   "id": "43810729",
   "metadata": {},
   "outputs": [
    {
     "data": {
      "text/plain": [
       "Date           0\n",
       "Branch         0\n",
       "Sales Agent    0\n",
       "Products       0\n",
       "Units          0\n",
       "Price          0\n",
       "Year           0\n",
       "Month          0\n",
       "Day            0\n",
       "Total_Sales    0\n",
       "dtype: int64"
      ]
     },
     "execution_count": 23,
     "metadata": {},
     "output_type": "execute_result"
    }
   ],
   "source": [
    "# Fill the missing values using median of the price column\n",
    "median_value = sales['Price'].median()\n",
    "median_value\n",
    "\n",
    "sales['Price'].fillna(median_value, inplace=True)\n",
    "\n",
    "sales.isnull().sum()"
   ]
  },
  {
   "cell_type": "markdown",
   "id": "d51f76f1",
   "metadata": {},
   "source": [
    "**e. Product-Level Summary**"
   ]
  },
  {
   "cell_type": "code",
   "execution_count": 30,
   "id": "4929c3be",
   "metadata": {},
   "outputs": [
    {
     "data": {
      "text/html": [
       "<div>\n",
       "<style scoped>\n",
       "    .dataframe tbody tr th:only-of-type {\n",
       "        vertical-align: middle;\n",
       "    }\n",
       "\n",
       "    .dataframe tbody tr th {\n",
       "        vertical-align: top;\n",
       "    }\n",
       "\n",
       "    .dataframe thead th {\n",
       "        text-align: right;\n",
       "    }\n",
       "</style>\n",
       "<table border=\"1\" class=\"dataframe\">\n",
       "  <thead>\n",
       "    <tr style=\"text-align: right;\">\n",
       "      <th></th>\n",
       "      <th>Average_Price</th>\n",
       "    </tr>\n",
       "    <tr>\n",
       "      <th>Products</th>\n",
       "      <th></th>\n",
       "    </tr>\n",
       "  </thead>\n",
       "  <tbody>\n",
       "    <tr>\n",
       "      <th>Apple</th>\n",
       "      <td>566.67</td>\n",
       "    </tr>\n",
       "    <tr>\n",
       "      <th>Compaq</th>\n",
       "      <td>409.04</td>\n",
       "    </tr>\n",
       "    <tr>\n",
       "      <th>Dell</th>\n",
       "      <td>595.70</td>\n",
       "    </tr>\n",
       "    <tr>\n",
       "      <th>HP</th>\n",
       "      <td>638.51</td>\n",
       "    </tr>\n",
       "    <tr>\n",
       "      <th>Lenovo</th>\n",
       "      <td>164.24</td>\n",
       "    </tr>\n",
       "  </tbody>\n",
       "</table>\n",
       "</div>"
      ],
      "text/plain": [
       "          Average_Price\n",
       "Products               \n",
       "Apple            566.67\n",
       "Compaq           409.04\n",
       "Dell             595.70\n",
       "HP               638.51\n",
       "Lenovo           164.24"
      ]
     },
     "execution_count": 30,
     "metadata": {},
     "output_type": "execute_result"
    }
   ],
   "source": [
    "# Generate a summary DataFrame that shows each product's average price and total units sold\n",
    "avg_price = pd.DataFrame({'Average_Price': sales.groupby(\"Products\")['Total_Sales'].mean().round(2),})\n",
    "\n",
    "avg_price"
   ]
  },
  {
   "cell_type": "markdown",
   "id": "50919fd9",
   "metadata": {},
   "source": [
    "## Question 2- Numpy for numeric computation"
   ]
  },
  {
   "cell_type": "markdown",
   "id": "488ce1c2",
   "metadata": {},
   "source": [
    "**a. Array Creation and Basic Manipulation**"
   ]
  },
  {
   "cell_type": "code",
   "execution_count": 31,
   "id": "5c680097",
   "metadata": {},
   "outputs": [
    {
     "name": "stdout",
     "output_type": "stream",
     "text": [
      "[92 32 45 84 66 78 63 87 46 59 13 22 89 62 29 44 14 36 25 90]\n"
     ]
    }
   ],
   "source": [
    "# Create a NumPy array containing 20 random integers between 10 and 100. Then perform the following tasks:\n",
    "array = np.random.randint(10, 100, size=20)\n",
    "print(array)"
   ]
  },
  {
   "cell_type": "code",
   "execution_count": 33,
   "id": "feae2b33",
   "metadata": {},
   "outputs": [
    {
     "name": "stdout",
     "output_type": "stream",
     "text": [
      "[[92 32 45 84 66]\n",
      " [78 63 87 46 59]\n",
      " [13 22 89 62 29]\n",
      " [44 14 36 25 90]]\n"
     ]
    }
   ],
   "source": [
    "# Reshape the array into a 4x5 matrix\n",
    "reshaped = array.reshape(4,5)\n",
    "print(reshaped)"
   ]
  },
  {
   "cell_type": "code",
   "execution_count": 37,
   "id": "fe102fce",
   "metadata": {},
   "outputs": [
    {
     "data": {
      "text/plain": [
       "array([[45, 84, 66],\n",
       "       [87, 46, 59]], dtype=int32)"
      ]
     },
     "execution_count": 37,
     "metadata": {},
     "output_type": "execute_result"
    }
   ],
   "source": [
    "# Extract the first two rows and last three columns from the reshaped array.\n",
    "extract= reshaped[0:2, -3:]\n",
    "extract"
   ]
  },
  {
   "cell_type": "code",
   "execution_count": 41,
   "id": "9803856b",
   "metadata": {},
   "outputs": [
    {
     "name": "stdout",
     "output_type": "stream",
     "text": [
      "Mean: 53.8\n",
      "STD: 26.14\n"
     ]
    }
   ],
   "source": [
    "# Compute the mean and the standard deviation of the entire array\n",
    "mean_array = array.mean()\n",
    "std_array = array.std()\n",
    "print(f\"Mean: {mean_array}\")\n",
    "print(f\"STD: {std_array:.2f}\")"
   ]
  },
  {
   "cell_type": "markdown",
   "id": "3c891736",
   "metadata": {},
   "source": [
    "**b. Operations on 2D Arrays**"
   ]
  },
  {
   "cell_type": "code",
   "execution_count": 44,
   "id": "5cee9651",
   "metadata": {},
   "outputs": [
    {
     "data": {
      "text/plain": [
       "array([[96, 80, 79, 97, 74],\n",
       "       [96, 64, 55, 51, 91],\n",
       "       [83, 67, 98, 90, 86],\n",
       "       [88, 69, 80, 60, 68],\n",
       "       [80, 54, 93, 55, 63],\n",
       "       [51, 59, 59, 89, 62],\n",
       "       [65, 82, 73, 56, 51],\n",
       "       [87, 69, 52, 90, 82],\n",
       "       [95, 53, 99, 84, 96],\n",
       "       [55, 91, 90, 69, 60]], dtype=int32)"
      ]
     },
     "execution_count": 44,
     "metadata": {},
     "output_type": "execute_result"
    }
   ],
   "source": [
    "# Simulate a 2D array representing student's scores in 5 subjects( 10 students).\n",
    "student_scores = np.random.randint(50,100,(10,5))\n",
    "student_scores"
   ]
  },
  {
   "cell_type": "code",
   "execution_count": 45,
   "id": "e315db91",
   "metadata": {},
   "outputs": [
    {
     "data": {
      "text/plain": [
       "array([85.2, 71.4, 84.8, 73. , 69. , 64. , 65.4, 76. , 85.4, 73. ])"
      ]
     },
     "execution_count": 45,
     "metadata": {},
     "output_type": "execute_result"
    }
   ],
   "source": [
    "# Calculate the average score per student\n",
    "avg_student = student_scores.mean(axis=1)\n",
    "avg_student"
   ]
  },
  {
   "cell_type": "code",
   "execution_count": 46,
   "id": "06564df3",
   "metadata": {},
   "outputs": [
    {
     "name": "stdout",
     "output_type": "stream",
     "text": [
      "Max score:99\n",
      "Min score:51\n"
     ]
    }
   ],
   "source": [
    "# Determine the highest and lower score in the dataset\n",
    "max_score = student_scores.max()\n",
    "min_score = student_scores.min()\n",
    "print(f\"Max score:{max_score}\")\n",
    "print(f\"Min score:{min_score}\")"
   ]
  },
  {
   "cell_type": "markdown",
   "id": "6820514e",
   "metadata": {},
   "source": [
    "**c. Working with 3D Arrays**\n"
   ]
  },
  {
   "cell_type": "code",
   "execution_count": 47,
   "id": "b7712b5d",
   "metadata": {},
   "outputs": [
    {
     "data": {
      "text/plain": [
       "array([[[ 6, 10],\n",
       "        [11, 16],\n",
       "        [12, 12],\n",
       "        [ 7,  2]],\n",
       "\n",
       "       [[18, 18],\n",
       "        [ 3, 11],\n",
       "        [ 3,  8],\n",
       "        [ 9,  4]],\n",
       "\n",
       "       [[ 5,  6],\n",
       "        [13, 14],\n",
       "        [ 7, 10],\n",
       "        [14,  1]]], dtype=int32)"
      ]
     },
     "execution_count": 47,
     "metadata": {},
     "output_type": "execute_result"
    }
   ],
   "source": [
    "# Create a 3D NumPy array with dimensions(3,4,2), filled with random integers between 1 and 20. Perform the following:\n",
    "array_3D = np. random.randint(1,20, (3,4,2))\n",
    "array_3D"
   ]
  },
  {
   "cell_type": "code",
   "execution_count": null,
   "id": "bef29657",
   "metadata": {},
   "outputs": [],
   "source": [
    "#Find the sum of elements accross the second axis\n",
    "array_3D =  "
   ]
  },
  {
   "cell_type": "code",
   "execution_count": 48,
   "id": "a4559e4a",
   "metadata": {},
   "outputs": [
    {
     "data": {
      "text/plain": [
       "array([ 6, 10, 11, 16, 12, 12,  7,  2, 18, 18,  3, 11,  3,  8,  9,  4,  5,\n",
       "        6, 13, 14,  7, 10, 14,  1], dtype=int32)"
      ]
     },
     "execution_count": 48,
     "metadata": {},
     "output_type": "execute_result"
    }
   ],
   "source": [
    "flatten = array_3D.flatten()\n",
    "flatten"
   ]
  },
  {
   "cell_type": "markdown",
   "id": "69835471",
   "metadata": {},
   "source": [
    "## Question3 - Statistics for statistical analysis"
   ]
  },
  {
   "cell_type": "markdown",
   "id": "13cbf334",
   "metadata": {},
   "source": [
    "**a. Measures of Center and Spread**"
   ]
  },
  {
   "cell_type": "code",
   "execution_count": 56,
   "id": "9b97159c",
   "metadata": {},
   "outputs": [
    {
     "name": "stdout",
     "output_type": "stream",
     "text": [
      "Mean: 28.24\n",
      "Median: 28.1\n",
      "There is no mode in the dataset\n",
      "Rnage: 12.5\n",
      "Standard deviation: 4.256101502549017\n"
     ]
    }
   ],
   "source": [
    "# compute the mean, median and mode\n",
    "countries = np.array([25.4, 30.2, 22.5, 28.1, 35.0])\n",
    "# Mean\n",
    "mean = np.mean(countries)\n",
    "# Median\n",
    "median = np.median(countries)\n",
    "# Range\n",
    "range = countries.max() - countries.min()\n",
    "# Standard deviation\n",
    "sd = np.std(countries)\n",
    "\n",
    "\n",
    "print(f\"Mean: {mean}\")\n",
    "print(f\"Median: {median}\")\n",
    "print(\"There is no mode in the dataset\" )\n",
    "print(f\"Rnage: {range}\")\n",
    "print(f\"Standard deviation: {sd}\")\n"
   ]
  },
  {
   "cell_type": "markdown",
   "id": "296b23a9",
   "metadata": {},
   "source": [
    "**b. Hypothesis Testing**"
   ]
  },
  {
   "cell_type": "code",
   "execution_count": null,
   "id": "76883a37",
   "metadata": {},
   "outputs": [
    {
     "data": {
      "text/plain": [
       "array([48.49814497, 55.78055418, 58.955804  , 57.84215454, 59.42640024,\n",
       "       61.13562747, 63.37859527, 54.13286436, 64.01522683, 58.6568089 ,\n",
       "       63.23344161, 62.09549848, 59.46490731, 56.89220326, 59.45638298,\n",
       "       42.68986084, 52.30214786, 69.50979453, 56.7213992 , 57.77205134,\n",
       "       56.84874823, 54.97178854, 52.01210064, 51.79218124, 62.96955292,\n",
       "       55.31802171, 62.79754401, 61.53780963, 57.97639342, 55.32583149])"
      ]
     },
     "execution_count": 57,
     "metadata": {},
     "output_type": "execute_result"
    }
   ],
   "source": [
    "#Two samples t- test\n",
    "beef_arg = np.array([60, 62, 58, 63, 59])\n",
    "\n",
    "\n",
    "beef_arg_mean = beef_arg.mean()\n",
    "beef_arg_samp = np.random.normal(loc=beef_arg_mean, scale=5, size=30)\n",
    "beef_arg_samp"
   ]
  },
  {
   "cell_type": "code",
   "execution_count": 58,
   "id": "8407fb4e",
   "metadata": {},
   "outputs": [
    {
     "data": {
      "text/plain": [
       "array([15.59041311, 23.30993441, 14.9655464 , 20.73166571, 15.04283583,\n",
       "        8.36785081, 17.52909735, 17.36281964, 13.20337869,  9.72593157,\n",
       "       11.5399203 , 14.7421091 , 10.97643122, 16.0535117 , 17.65532429,\n",
       "        8.90547894,  5.01836716, 13.89835924, 19.18833573, 20.23586149,\n",
       "       10.99900519, 13.23917664, 13.92002906, 21.22717114,  8.60613062,\n",
       "       20.68035203, 13.28975535, 19.62408293, 20.64256598, 11.29808764])"
      ]
     },
     "execution_count": 58,
     "metadata": {},
     "output_type": "execute_result"
    }
   ],
   "source": [
    "beef_bang= np.array([15, 12, 18, 14, 16])\n",
    "beef_bang_mean = beef_bang.mean()\n",
    "beef_bang_samp = np.random.normal(loc=beef_bang_mean, scale=5, size=30)\n",
    "beef_bang_samp"
   ]
  },
  {
   "cell_type": "code",
   "execution_count": 60,
   "id": "6a3f4470",
   "metadata": {},
   "outputs": [
    {
     "name": "stdout",
     "output_type": "stream",
     "text": [
      "T_statistics: 33.69786910953483\n",
      "P value: 8.707120337468893e-40\n"
     ]
    },
    {
     "name": "stderr",
     "output_type": "stream",
     "text": [
      "C:\\Users\\ncc45554\\AppData\\Local\\Temp\\ipykernel_1244\\1436968831.py:1: DeprecationWarning: Please import `ttest_ind` from the `scipy.stats` namespace; the `scipy.stats.stats` namespace is deprecated and will be removed in SciPy 2.0.0.\n",
      "  t_stats,p_val = stats.ttest_ind(beef_arg_samp, beef_bang_samp)\n"
     ]
    }
   ],
   "source": [
    "t_stats,p_val = stats.ttest_ind(beef_arg_samp, beef_bang_samp)\n",
    "print(f\"T_statistics: {t_stats}\")\n",
    "print(f\"P value: {p_val}\")"
   ]
  },
  {
   "cell_type": "markdown",
   "id": "6d7e2d64",
   "metadata": {},
   "source": [
    "**Interpretation**\n"
   ]
  }
 ],
 "metadata": {
  "kernelspec": {
   "display_name": "Python 3",
   "language": "python",
   "name": "python3"
  },
  "language_info": {
   "codemirror_mode": {
    "name": "ipython",
    "version": 3
   },
   "file_extension": ".py",
   "mimetype": "text/x-python",
   "name": "python",
   "nbconvert_exporter": "python",
   "pygments_lexer": "ipython3",
   "version": "3.13.5"
  }
 },
 "nbformat": 4,
 "nbformat_minor": 5
}
